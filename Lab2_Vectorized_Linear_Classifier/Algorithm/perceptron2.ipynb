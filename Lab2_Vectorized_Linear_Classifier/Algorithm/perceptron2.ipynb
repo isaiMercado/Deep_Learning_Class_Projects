{
 "cells": [
  {
   "cell_type": "code",
   "execution_count": 2,
   "metadata": {
    "collapsed": false
   },
   "outputs": [
    {
     "name": "stderr",
     "output_type": "stream",
     "text": [
      "/home/isai/anaconda2/lib/python2.7/site-packages/matplotlib/font_manager.py:273: UserWarning: Matplotlib is building the font cache using fc-list. This may take a moment.\n",
      "  warnings.warn('Matplotlib is building the font cache using fc-list. This may take a moment.')\n"
     ]
    }
   ],
   "source": [
    "import Figtodat\n",
    "from images2gif import writeGif\n",
    "import numpy as np\n",
    "import math\n",
    "\n",
    "#helps mapping labels to integers\n",
    "from sklearn import preprocessing \n",
    "\n",
    "# randomnize two numpy arrays\n",
    "from sklearn.utils import shuffle\n",
    "\n",
    "# for rotating figure from matplotlib\n",
    "import scipy.ndimage\n",
    "\n",
    "import pandas as pd \n",
    "import matplotlib.pyplot as plt\n",
    "import matplotlib\n",
    "%matplotlib inline"
   ]
  },
  {
   "cell_type": "code",
   "execution_count": 2,
   "metadata": {
    "collapsed": false
   },
   "outputs": [
    {
     "name": "stdout",
     "output_type": "stream",
     "text": [
      "inputs length\n",
      "3\n",
      "dataset length\n",
      "150\n",
      "<type 'numpy.ndarray'>\n",
      "<type 'numpy.ndarray'>\n"
     ]
    }
   ],
   "source": [
    "\n",
    "\n",
    "###\n",
    "\n",
    "data = pd.read_csv( './../Dataset/simple_iris.csv' )\n",
    "m = data.as_matrix()\n",
    "labels = m[:,0]\n",
    "labels[ labels==2 ] = 1  # squash class 2 into class 1\n",
    "#t_vector = np.atleast_2d( labels ).T\n",
    "t_vector = labels\n",
    "\n",
    "data.drop('Target', axis=1, inplace=True)\n",
    "data.drop('Att3', axis=1, inplace=True)\n",
    "data.drop('Att4', axis=1, inplace=True)\n",
    "data.insert(0, \"BIAS\", np.ones(len(data)))\n",
    "X_matrix = data.values\n",
    "\n",
    "X_matrix, t_vector = shuffle(X_matrix, t_vector, random_state=0)\n",
    "\n",
    "DATASET_LENGTH = X_matrix.shape[0] # rows\n",
    "INPUTS_LENGTH = X_matrix.shape[1] # columns\n",
    "\n",
    "print(\"inputs length\")\n",
    "print(INPUTS_LENGTH)\n",
    "print(\"dataset length\")\n",
    "print(DATASET_LENGTH)\n",
    "\n",
    "print(type(t_vector))\n",
    "print(type(X_matrix))"
   ]
  },
  {
   "cell_type": "code",
   "execution_count": 5,
   "metadata": {
    "collapsed": false
   },
   "outputs": [
    {
     "name": "stdout",
     "output_type": "stream",
     "text": [
      "inputs length\n",
      "3073\n",
      "dataset length\n",
      "10000\n",
      "<type 'numpy.ndarray'>\n",
      "<type 'numpy.ndarray'>\n",
      "[[   1.   62.   59. ...,   54.   46.   37.]\n",
      " [   1.  217.  215. ...,  126.  128.  127.]\n",
      " [   1.  104.  130. ...,   44.   46.   45.]\n",
      " ..., \n",
      " [   1.   86.   85. ...,   75.   75.   70.]\n",
      " [   1.  114.  131. ...,   39.   48.   88.]\n",
      " [   1.  179.  153. ...,  231.  233.  232.]]\n"
     ]
    }
   ],
   "source": [
    "def unpickle( file ):\n",
    "    import pickle\n",
    "    fo = open(file, 'rb')\n",
    "    dict = pickle.load(fo)\n",
    "    fo.close()\n",
    "    return dict\n",
    " \n",
    "data = unpickle( './../Dataset/cifar-10-batches-py/data_batch_1' )\n",
    " \n",
    "X_matrix = data['data']\n",
    "t_vector = data['labels']\n",
    "\n",
    "dataframe = pd.DataFrame(X_matrix)\n",
    "dataframe.insert(0, \"BIAS\", np.ones(len(X_matrix)))\n",
    "X_matrix = dataframe.values\n",
    "t_vector = np.atleast_2d( t_vector ).T\n",
    " \n",
    "# squash classes 0-4 into class 0, and squash classes 5-9 into class 1\n",
    "t_vector[ t_vector < 5 ] = 0\n",
    "t_vector[ t_vector >= 5 ] = 1\n",
    "\n",
    "X_matrix, t_vector = shuffle(X_matrix, t_vector, random_state=0)\n",
    "\n",
    "DATASET_LENGTH = X_matrix.shape[0] # rows\n",
    "INPUTS_LENGTH = X_matrix.shape[1] # columns\n",
    "\n",
    "print(\"inputs length\")\n",
    "print(INPUTS_LENGTH)\n",
    "print(\"dataset length\")\n",
    "print(DATASET_LENGTH)\n",
    "\n",
    "print(type(t_vector))\n",
    "print(type(X_matrix))\n",
    "print(X_matrix)"
   ]
  },
  {
   "cell_type": "code",
   "execution_count": 6,
   "metadata": {
    "collapsed": false
   },
   "outputs": [],
   "source": [
    "# training perceptron\n",
    "w_vector = np.random.rand(INPUTS_LENGTH) # last entry is for the bias"
   ]
  },
  {
   "cell_type": "code",
   "execution_count": 7,
   "metadata": {
    "collapsed": true
   },
   "outputs": [],
   "source": [
    "# activation function\n",
    "def activation_function(entry):\n",
    "    if entry >= 0:\n",
    "        return 1\n",
    "    else:\n",
    "        return 0"
   ]
  },
  {
   "cell_type": "code",
   "execution_count": 8,
   "metadata": {
    "collapsed": false
   },
   "outputs": [],
   "source": [
    "def plot_figure(x, y, limits, title, x_label_name, y_label_name):\n",
    "    plt.close(\"all\")\n",
    "    figure = plt.figure()\n",
    "    figure.clf()\n",
    "    \n",
    "    axes = plt.gca()\n",
    "    #axes.set_xlim(limits[0], limits[1])\n",
    "    #axes.set_ylim(limits[2], limits[3])\n",
    "\n",
    "    plt.plot(x, y)\n",
    "    plt.ylabel(y_label_name)\n",
    "    plt.xlabel(x_label_name)\n",
    "\n",
    "    figure.suptitle(title, fontsize=20)\n",
    "    plt.legend(loc='upper right')#,prop={'size':20}, bbox_to_anchor=(1, 0.5))\n",
    "    #figure.set_size_inches(3, 2)\n",
    "\n",
    "    return figure"
   ]
  },
  {
   "cell_type": "code",
   "execution_count": 9,
   "metadata": {
    "collapsed": true
   },
   "outputs": [],
   "source": [
    "def perceptron_figure(x_classifier, y_classifier, x_points, y_points, target_vector, boundary_limits):\n",
    "    plt.close(\"all\")\n",
    "    figure = plt.figure()\n",
    "    figure.clf()\n",
    "    \n",
    "    colors = ['green','purple']\n",
    "    \n",
    "    axes = plt.gca()\n",
    "    axes.set_xlim(boundary_limits[0], boundary_limits[1])\n",
    "    axes.set_ylim(boundary_limits[2], boundary_limits[3])\n",
    "\n",
    "    plt.scatter(x_points, y_points, c=target_vector, cmap=matplotlib.colors.ListedColormap(colors))\n",
    "    plt.plot(x_classifier, y_classifier, linewidth=3.0)\n",
    "    \n",
    "    plt.ylabel(\"First Attribute\")\n",
    "    plt.xlabel(\"Second Attribute\")\n",
    "\n",
    "    figure.suptitle(\"First Two Dimensions - Boundary Line\", fontsize=20)\n",
    "    plt.legend(loc='upper right')#,prop={'size':20}, bbox_to_anchor=(1, 0.5))\n",
    "    #figure.set_size_inches(3, 2)\n",
    "\n",
    "    return figure"
   ]
  },
  {
   "cell_type": "code",
   "execution_count": 10,
   "metadata": {
    "collapsed": true
   },
   "outputs": [],
   "source": [
    "EPOCHS = 150\n",
    "LEARNING_RATE = 0.00001"
   ]
  },
  {
   "cell_type": "code",
   "execution_count": 11,
   "metadata": {
    "collapsed": true
   },
   "outputs": [],
   "source": [
    "boundary_x_start, boundary_x_end = X_matrix[:, 1].min() - 1, X_matrix[:, 1].max() + 1\n",
    "boundary_y_start, boundary_y_end = X_matrix[:, 2].min() - 1, X_matrix[:, 2].max() + 1\n",
    "boundary_limits = (boundary_x_start, boundary_x_end, boundary_y_start, boundary_y_end)\n",
    "\n",
    "error_x_start, error_x_end = 0, EPOCHS\n",
    "error_y_start, error_y_end = 0, 50#5000\n",
    "error_limits = (error_x_start, error_x_end, error_y_start, error_y_end)\n",
    "\n",
    "accuracy_x_start, accuracy_x_end = 0, EPOCHS\n",
    "accuracy_y_start, accuracy_y_end = 0, 1\n",
    "accuracy_limits = (accuracy_x_start, accuracy_x_end, accuracy_y_start, accuracy_y_end)\n",
    "\n",
    "norm_x_start, norm_x_end = 0, EPOCHS\n",
    "norm_y_start, norm_y_end = 0, 500\n",
    "norm_limits = (norm_x_start, norm_x_end, norm_y_start, norm_y_end)"
   ]
  },
  {
   "cell_type": "code",
   "execution_count": 12,
   "metadata": {
    "collapsed": false
   },
   "outputs": [],
   "source": [
    "scatter_x_coordinates = np.linspace(boundary_x_start, boundary_x_end)\n",
    "plot_x_coordinates = np.linspace(0, EPOCHS, num=EPOCHS)\n",
    "\n",
    "error_y_coordinates = np.zeros(EPOCHS)\n",
    "accuracy_y_coordinates = np.zeros(EPOCHS)\n",
    "norm_y_coordinates = np.zeros(EPOCHS)"
   ]
  },
  {
   "cell_type": "code",
   "execution_count": 13,
   "metadata": {
    "collapsed": false,
    "scrolled": false
   },
   "outputs": [
    {
     "name": "stderr",
     "output_type": "stream",
     "text": [
      "/home/isai/anaconda2/lib/python2.7/site-packages/matplotlib/axes/_axes.py:519: UserWarning: No labelled objects found. Use label='...' kwarg on individual plots.\n",
      "  warnings.warn(\"No labelled objects found. \"\n",
      "Figtodat.py:46: RuntimeWarning: the frombuffer defaults may change in a future release; for portability, change the call to read:\n",
      "  frombuffer(mode, size, data, 'raw', mode, 0, 1)\n",
      "  im=PIL.Image.frombuffer( \"RGBA\", ( w ,h ), buf.tostring())\n"
     ]
    },
    {
     "data": {
      "image/png": "[encoded data removed]",
      "text/plain": [
       "<matplotlib.figure.Figure at 0x7fd916e9bb90>"
      ]
     },
     "metadata": {},
     "output_type": "display_data"
    }
   ],
   "source": [
    "# Lists that hold the figures from matplotlib to make GIF images\n",
    "boundary_images = list()\n",
    "error_images = list()\n",
    "accuracy_images = list()\n",
    "norm_images = list()\n",
    "\n",
    "# Training the perceptron\n",
    "for epoch in range(0,EPOCHS):\n",
    "    \n",
    "    # Shuffleling data points to help the perceptron converge faster\n",
    "    X_matrix, t_vector = shuffle(X_matrix, t_vector, random_state=0)\n",
    "    \n",
    "    # Variables that hold data for the plots\n",
    "    global_error = 0\n",
    "    global_accuracy = 0\n",
    "    \n",
    "    # Using the weigths of the perceptron to draw the decision boundary line of the perceptron\n",
    "    a, b = -w_vector[1]/w_vector[2], -w_vector[0]/w_vector[2]\n",
    "    scatter_y_coordinates = a * scatter_x_coordinates + b\n",
    "    \n",
    "    # Appending figures to a list to make the perceptron boundary GIF\n",
    "    boundary_figure = perceptron_figure(scatter_x_coordinates, scatter_y_coordinates, X_matrix[:,1], X_matrix[:,2], t_vector, boundary_limits)\n",
    "    boundary_image = Figtodat.fig2img(boundary_figure)\n",
    "    boundary_images.append(boundary_image)\n",
    "    \n",
    "    # Perceptron\n",
    "    for row in range(0,DATASET_LENGTH-1):\n",
    "        x_vector = X_matrix[row] \n",
    "        z_scalar = activation_function(np.dot(w_vector, x_vector))\n",
    "        t_scalar = t_vector[row]\n",
    "        error = t_scalar - z_scalar\n",
    "        w_vector = w_vector + (LEARNING_RATE * error * x_vector)\n",
    "        \n",
    "        # Computing stuff for the plots\n",
    "        global_error = global_error + (error * error)\n",
    "        global_accuracy = global_accuracy + 1.0 if error == 0 else 0.0\n",
    "        \n",
    "    error_y_coordinates[epoch] = global_error\n",
    "    accuracy_y_coordinates[epoch] = global_accuracy / DATASET_LENGTH\n",
    "    norm_y_coordinates[epoch] = math.log(math.sqrt(np.dot(w_vector, w_vector)))#np.linalg.norm(w_vector)\n",
    "    \n",
    "    # Appending figures to a list to make the error plot GIF\n",
    "    error_figure = plot_figure(plot_x_coordinates, error_y_coordinates, error_limits, \"Sum of Squares Error\", \"Epochs\", \"SSE\")\n",
    "    error_image = Figtodat.fig2img(error_figure)\n",
    "    error_images.append(error_image)\n",
    "    \n",
    "    # Appending figures to a list to make the accuracy plot GIF\n",
    "    accuracy_figure = plot_figure(plot_x_coordinates, accuracy_y_coordinates, accuracy_limits, \"Perceptron Accuracy\", \"Epochs\", \"Accuracy\")\n",
    "    accuracy_image = Figtodat.fig2img(accuracy_figure)\n",
    "    accuracy_images.append(accuracy_image)\n",
    "    \n",
    "    # Appending figures to a list to make the norm plot GIF\n",
    "    norm_figure = plot_figure(plot_x_coordinates, norm_y_coordinates, norm_limits, \"Log of L2 Norm of Weights Vector\", \"Epochs\", \"Log L2 Norm\")\n",
    "    norm_image = Figtodat.fig2img(norm_figure)\n",
    "    norm_images.append(norm_image)\n",
    "\n",
    "# Making GIF images\n",
    "name = \"cifar10_c000001\"\n",
    "writeGif(\"images/\" + name + \"_boundary.gif\", boundary_images, duration=0.1, repeat=1)\n",
    "writeGif(\"images/\" + name + \"_error.gif\", error_images, duration=0.1, repeat=1)\n",
    "writeGif(\"images/\" + name + \"_accuracy.gif\", accuracy_images, duration=0.1, repeat=1)\n",
    "writeGif(\"images/\" + name + \"_norm.gif\", norm_images, duration=0.1, repeat=1)\n",
    "            \n",
    "            \n",
    "        "
   ]
  },
  {
   "cell_type": "markdown",
   "metadata": {},
   "source": [
    "# Iris Dataset with Learning Rate = 1\n",
    "<img src=\"images/iris_c1_boundary.gif\" style=\"float: left;\"> \n",
    "<img src=\"images/iris_c1_error.gif\" style=\"float: right;\">\n",
    "<br>\n",
    "<img src=\"images/iris_c1_accuracy.gif\" style=\"float: left;\"> \n",
    "<img src=\"images/iris_c1_norm.gif\" style=\"float: right;\">\n",
    "<br>"
   ]
  },
  {
   "cell_type": "markdown",
   "metadata": {
    "collapsed": true
   },
   "source": [
    "# Iris Dataset with Learning Rate = 0.1\n",
    "<img src=\"images/iris_c01_boundary.gif\" style=\"float: left;\"> \n",
    "<img src=\"images/iris_c01_error.gif\" style=\"float: right;\">\n",
    "<br>\n",
    "<img src=\"images/iris_c01_accuracy.gif\" style=\"float: left;\"> \n",
    "<img src=\"images/iris_c01_norm.gif\" style=\"float: right;\">\n",
    "<br>"
   ]
  },
  {
   "cell_type": "markdown",
   "metadata": {},
   "source": [
    "# Iris Dataset with Learning Rate = 0.01\n",
    "<img src=\"images/iris_c001_boundary.gif\" style=\"float: left;\"> \n",
    "<img src=\"images/iris_c001_error.gif\" style=\"float: right;\">\n",
    "<br>\n",
    "<img src=\"images/iris_c001_accuracy.gif\" style=\"float: left;\"> \n",
    "<img src=\"images/iris_c001_norm.gif\" style=\"float: right;\">\n",
    "<br>"
   ]
  },
  {
   "cell_type": "markdown",
   "metadata": {
    "collapsed": true
   },
   "source": [
    "# Cifar10 Dataset with Learning Rate = 0.001\n",
    "<img src=\"images/cifar10_c0001_boundary.gif\" style=\"float: left;\"> \n",
    "<img src=\"images/cifar10_c0001_error.gif\" style=\"float: right;\">\n",
    "<br>\n",
    "<img src=\"images/cifar10_c0001_accuracy.gif\" style=\"float: left;\"> \n",
    "<img src=\"images/cifar10_c0001_norm.gif\" style=\"float: right;\">\n",
    "<br>"
   ]
  },
  {
   "cell_type": "markdown",
   "metadata": {},
   "source": [
    "# Cifar10 Dataset with Learning Rate = 0.00001\n",
    "<img src=\"images/cifar10_c000001_boundary.gif\" style=\"float: left;\"> \n",
    "<img src=\"images/cifar10_c000001_error.gif\" style=\"float: right;\">\n",
    "<br>\n",
    "<img src=\"images/cifar10_c000001_accuracy.gif\" style=\"float: left;\"> \n",
    "<img src=\"images/cifar10_c000001_norm.gif\" style=\"float: right;\">\n",
    "<br>"
   ]
  },
  {
   "cell_type": "code",
   "execution_count": null,
   "metadata": {
    "collapsed": true
   },
   "outputs": [],
   "source": []
  }
 ],
 "metadata": {
  "kernelspec": {
   "display_name": "Python 2",
   "language": "python",
   "name": "python2"
  },
  "language_info": {
   "codemirror_mode": {
    "name": "ipython",
    "version": 2
   },
   "file_extension": ".py",
   "mimetype": "text/x-python",
   "name": "python",
   "nbconvert_exporter": "python",
   "pygments_lexer": "ipython2",
   "version": "2.7.12"
  }
 },
 "nbformat": 4,
 "nbformat_minor": 0
}
