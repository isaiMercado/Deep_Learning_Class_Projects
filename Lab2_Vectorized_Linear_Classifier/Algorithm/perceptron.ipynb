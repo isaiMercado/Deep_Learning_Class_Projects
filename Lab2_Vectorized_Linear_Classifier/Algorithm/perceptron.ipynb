{
 "cells": [
  {
   "cell_type": "code",
   "execution_count": 33,
   "metadata": {
    "collapsed": false
   },
   "outputs": [],
   "source": [
    "import Figtodat\n",
    "from images2gif import writeGif\n",
    "\n",
    "import numpy as np\n",
    "\n",
    "#helps mapping labels to integers\n",
    "from sklearn import preprocessing \n",
    "\n",
    "#read csv\n",
    "import pandas as pd \n",
    "\n",
    "import matplotlib.pyplot as plt\n",
    "%matplotlib inline"
   ]
  },
  {
   "cell_type": "code",
   "execution_count": 34,
   "metadata": {
    "collapsed": false
   },
   "outputs": [
    {
     "ename": "OSError",
     "evalue": "File b'./../Dataset/iris.csv' does not exist",
     "output_type": "error",
     "traceback": [
      "\u001b[1;31m---------------------------------------------------------------------------\u001b[0m",
      "\u001b[1;31mOSError\u001b[0m                                   Traceback (most recent call last)",
      "\u001b[1;32m<ipython-input-34-1eb11a7ce0be>\u001b[0m in \u001b[0;36m<module>\u001b[1;34m()\u001b[0m\n\u001b[0;32m      1\u001b[0m \u001b[1;31m# getting data\u001b[0m\u001b[1;33m\u001b[0m\u001b[1;33m\u001b[0m\u001b[0m\n\u001b[1;32m----> 2\u001b[1;33m \u001b[0mdata\u001b[0m \u001b[1;33m=\u001b[0m \u001b[0mpd\u001b[0m\u001b[1;33m.\u001b[0m\u001b[0mread_csv\u001b[0m\u001b[1;33m(\u001b[0m\u001b[1;34m'./../Dataset/iris.csv'\u001b[0m\u001b[1;33m)\u001b[0m\u001b[1;33m\u001b[0m\u001b[0m\n\u001b[0m\u001b[0;32m      3\u001b[0m \u001b[0mdata\u001b[0m \u001b[1;33m=\u001b[0m \u001b[0mdata\u001b[0m\u001b[1;33m.\u001b[0m\u001b[0mreindex\u001b[0m\u001b[1;33m(\u001b[0m\u001b[0mnp\u001b[0m\u001b[1;33m.\u001b[0m\u001b[0mrandom\u001b[0m\u001b[1;33m.\u001b[0m\u001b[0mpermutation\u001b[0m\u001b[1;33m(\u001b[0m\u001b[0mdata\u001b[0m\u001b[1;33m.\u001b[0m\u001b[0mindex\u001b[0m\u001b[1;33m)\u001b[0m\u001b[1;33m)\u001b[0m\u001b[1;33m\u001b[0m\u001b[0m\n\u001b[0;32m      4\u001b[0m \u001b[1;31m#print(data)\u001b[0m\u001b[1;33m\u001b[0m\u001b[1;33m\u001b[0m\u001b[0m\n\u001b[0;32m      5\u001b[0m \u001b[0mdata\u001b[0m\u001b[1;33m.\u001b[0m\u001b[0mdrop\u001b[0m\u001b[1;33m(\u001b[0m\u001b[1;34m'Attribute_3'\u001b[0m\u001b[1;33m,\u001b[0m \u001b[0maxis\u001b[0m\u001b[1;33m=\u001b[0m\u001b[1;36m1\u001b[0m\u001b[1;33m,\u001b[0m \u001b[0minplace\u001b[0m\u001b[1;33m=\u001b[0m\u001b[1;32mTrue\u001b[0m\u001b[1;33m)\u001b[0m\u001b[1;33m\u001b[0m\u001b[0m\n",
      "\u001b[1;32m/home/isai/anaconda3/lib/python3.5/site-packages/pandas/io/parsers.py\u001b[0m in \u001b[0;36mparser_f\u001b[1;34m(filepath_or_buffer, sep, dialect, compression, doublequote, escapechar, quotechar, quoting, skipinitialspace, lineterminator, header, index_col, names, prefix, skiprows, skipfooter, skip_footer, na_values, true_values, false_values, delimiter, converters, dtype, usecols, engine, delim_whitespace, as_recarray, na_filter, compact_ints, use_unsigned, low_memory, buffer_lines, warn_bad_lines, error_bad_lines, keep_default_na, thousands, comment, decimal, parse_dates, keep_date_col, dayfirst, date_parser, memory_map, float_precision, nrows, iterator, chunksize, verbose, encoding, squeeze, mangle_dupe_cols, tupleize_cols, infer_datetime_format, skip_blank_lines)\u001b[0m\n\u001b[0;32m    496\u001b[0m                     skip_blank_lines=skip_blank_lines)\n\u001b[0;32m    497\u001b[0m \u001b[1;33m\u001b[0m\u001b[0m\n\u001b[1;32m--> 498\u001b[1;33m         \u001b[1;32mreturn\u001b[0m \u001b[0m_read\u001b[0m\u001b[1;33m(\u001b[0m\u001b[0mfilepath_or_buffer\u001b[0m\u001b[1;33m,\u001b[0m \u001b[0mkwds\u001b[0m\u001b[1;33m)\u001b[0m\u001b[1;33m\u001b[0m\u001b[0m\n\u001b[0m\u001b[0;32m    499\u001b[0m \u001b[1;33m\u001b[0m\u001b[0m\n\u001b[0;32m    500\u001b[0m     \u001b[0mparser_f\u001b[0m\u001b[1;33m.\u001b[0m\u001b[0m__name__\u001b[0m \u001b[1;33m=\u001b[0m \u001b[0mname\u001b[0m\u001b[1;33m\u001b[0m\u001b[0m\n",
      "\u001b[1;32m/home/isai/anaconda3/lib/python3.5/site-packages/pandas/io/parsers.py\u001b[0m in \u001b[0;36m_read\u001b[1;34m(filepath_or_buffer, kwds)\u001b[0m\n\u001b[0;32m    273\u001b[0m \u001b[1;33m\u001b[0m\u001b[0m\n\u001b[0;32m    274\u001b[0m     \u001b[1;31m# Create the parser.\u001b[0m\u001b[1;33m\u001b[0m\u001b[1;33m\u001b[0m\u001b[0m\n\u001b[1;32m--> 275\u001b[1;33m     \u001b[0mparser\u001b[0m \u001b[1;33m=\u001b[0m \u001b[0mTextFileReader\u001b[0m\u001b[1;33m(\u001b[0m\u001b[0mfilepath_or_buffer\u001b[0m\u001b[1;33m,\u001b[0m \u001b[1;33m**\u001b[0m\u001b[0mkwds\u001b[0m\u001b[1;33m)\u001b[0m\u001b[1;33m\u001b[0m\u001b[0m\n\u001b[0m\u001b[0;32m    276\u001b[0m \u001b[1;33m\u001b[0m\u001b[0m\n\u001b[0;32m    277\u001b[0m     \u001b[1;32mif\u001b[0m \u001b[1;33m(\u001b[0m\u001b[0mnrows\u001b[0m \u001b[1;32mis\u001b[0m \u001b[1;32mnot\u001b[0m \u001b[1;32mNone\u001b[0m\u001b[1;33m)\u001b[0m \u001b[1;32mand\u001b[0m \u001b[1;33m(\u001b[0m\u001b[0mchunksize\u001b[0m \u001b[1;32mis\u001b[0m \u001b[1;32mnot\u001b[0m \u001b[1;32mNone\u001b[0m\u001b[1;33m)\u001b[0m\u001b[1;33m:\u001b[0m\u001b[1;33m\u001b[0m\u001b[0m\n",
      "\u001b[1;32m/home/isai/anaconda3/lib/python3.5/site-packages/pandas/io/parsers.py\u001b[0m in \u001b[0;36m__init__\u001b[1;34m(self, f, engine, **kwds)\u001b[0m\n\u001b[0;32m    588\u001b[0m             \u001b[0mself\u001b[0m\u001b[1;33m.\u001b[0m\u001b[0moptions\u001b[0m\u001b[1;33m[\u001b[0m\u001b[1;34m'has_index_names'\u001b[0m\u001b[1;33m]\u001b[0m \u001b[1;33m=\u001b[0m \u001b[0mkwds\u001b[0m\u001b[1;33m[\u001b[0m\u001b[1;34m'has_index_names'\u001b[0m\u001b[1;33m]\u001b[0m\u001b[1;33m\u001b[0m\u001b[0m\n\u001b[0;32m    589\u001b[0m \u001b[1;33m\u001b[0m\u001b[0m\n\u001b[1;32m--> 590\u001b[1;33m         \u001b[0mself\u001b[0m\u001b[1;33m.\u001b[0m\u001b[0m_make_engine\u001b[0m\u001b[1;33m(\u001b[0m\u001b[0mself\u001b[0m\u001b[1;33m.\u001b[0m\u001b[0mengine\u001b[0m\u001b[1;33m)\u001b[0m\u001b[1;33m\u001b[0m\u001b[0m\n\u001b[0m\u001b[0;32m    591\u001b[0m \u001b[1;33m\u001b[0m\u001b[0m\n\u001b[0;32m    592\u001b[0m     \u001b[1;32mdef\u001b[0m \u001b[0m_get_options_with_defaults\u001b[0m\u001b[1;33m(\u001b[0m\u001b[0mself\u001b[0m\u001b[1;33m,\u001b[0m \u001b[0mengine\u001b[0m\u001b[1;33m)\u001b[0m\u001b[1;33m:\u001b[0m\u001b[1;33m\u001b[0m\u001b[0m\n",
      "\u001b[1;32m/home/isai/anaconda3/lib/python3.5/site-packages/pandas/io/parsers.py\u001b[0m in \u001b[0;36m_make_engine\u001b[1;34m(self, engine)\u001b[0m\n\u001b[0;32m    729\u001b[0m     \u001b[1;32mdef\u001b[0m \u001b[0m_make_engine\u001b[0m\u001b[1;33m(\u001b[0m\u001b[0mself\u001b[0m\u001b[1;33m,\u001b[0m \u001b[0mengine\u001b[0m\u001b[1;33m=\u001b[0m\u001b[1;34m'c'\u001b[0m\u001b[1;33m)\u001b[0m\u001b[1;33m:\u001b[0m\u001b[1;33m\u001b[0m\u001b[0m\n\u001b[0;32m    730\u001b[0m         \u001b[1;32mif\u001b[0m \u001b[0mengine\u001b[0m \u001b[1;33m==\u001b[0m \u001b[1;34m'c'\u001b[0m\u001b[1;33m:\u001b[0m\u001b[1;33m\u001b[0m\u001b[0m\n\u001b[1;32m--> 731\u001b[1;33m             \u001b[0mself\u001b[0m\u001b[1;33m.\u001b[0m\u001b[0m_engine\u001b[0m \u001b[1;33m=\u001b[0m \u001b[0mCParserWrapper\u001b[0m\u001b[1;33m(\u001b[0m\u001b[0mself\u001b[0m\u001b[1;33m.\u001b[0m\u001b[0mf\u001b[0m\u001b[1;33m,\u001b[0m \u001b[1;33m**\u001b[0m\u001b[0mself\u001b[0m\u001b[1;33m.\u001b[0m\u001b[0moptions\u001b[0m\u001b[1;33m)\u001b[0m\u001b[1;33m\u001b[0m\u001b[0m\n\u001b[0m\u001b[0;32m    732\u001b[0m         \u001b[1;32melse\u001b[0m\u001b[1;33m:\u001b[0m\u001b[1;33m\u001b[0m\u001b[0m\n\u001b[0;32m    733\u001b[0m             \u001b[1;32mif\u001b[0m \u001b[0mengine\u001b[0m \u001b[1;33m==\u001b[0m \u001b[1;34m'python'\u001b[0m\u001b[1;33m:\u001b[0m\u001b[1;33m\u001b[0m\u001b[0m\n",
      "\u001b[1;32m/home/isai/anaconda3/lib/python3.5/site-packages/pandas/io/parsers.py\u001b[0m in \u001b[0;36m__init__\u001b[1;34m(self, src, **kwds)\u001b[0m\n\u001b[0;32m   1101\u001b[0m         \u001b[0mkwds\u001b[0m\u001b[1;33m[\u001b[0m\u001b[1;34m'allow_leading_cols'\u001b[0m\u001b[1;33m]\u001b[0m \u001b[1;33m=\u001b[0m \u001b[0mself\u001b[0m\u001b[1;33m.\u001b[0m\u001b[0mindex_col\u001b[0m \u001b[1;32mis\u001b[0m \u001b[1;32mnot\u001b[0m \u001b[1;32mFalse\u001b[0m\u001b[1;33m\u001b[0m\u001b[0m\n\u001b[0;32m   1102\u001b[0m \u001b[1;33m\u001b[0m\u001b[0m\n\u001b[1;32m-> 1103\u001b[1;33m         \u001b[0mself\u001b[0m\u001b[1;33m.\u001b[0m\u001b[0m_reader\u001b[0m \u001b[1;33m=\u001b[0m \u001b[0m_parser\u001b[0m\u001b[1;33m.\u001b[0m\u001b[0mTextReader\u001b[0m\u001b[1;33m(\u001b[0m\u001b[0msrc\u001b[0m\u001b[1;33m,\u001b[0m \u001b[1;33m**\u001b[0m\u001b[0mkwds\u001b[0m\u001b[1;33m)\u001b[0m\u001b[1;33m\u001b[0m\u001b[0m\n\u001b[0m\u001b[0;32m   1104\u001b[0m \u001b[1;33m\u001b[0m\u001b[0m\n\u001b[0;32m   1105\u001b[0m         \u001b[1;31m# XXX\u001b[0m\u001b[1;33m\u001b[0m\u001b[1;33m\u001b[0m\u001b[0m\n",
      "\u001b[1;32mpandas/parser.pyx\u001b[0m in \u001b[0;36mpandas.parser.TextReader.__cinit__ (pandas/parser.c:3246)\u001b[1;34m()\u001b[0m\n",
      "\u001b[1;32mpandas/parser.pyx\u001b[0m in \u001b[0;36mpandas.parser.TextReader._setup_parser_source (pandas/parser.c:6111)\u001b[1;34m()\u001b[0m\n",
      "\u001b[1;31mOSError\u001b[0m: File b'./../Dataset/iris.csv' does not exist"
     ]
    }
   ],
   "source": [
    "# getting data\n",
    "data = pd.read_csv('./../Dataset/iris.csv')\n",
    "data = data.reindex(np.random.permutation(data.index))\n",
    "#print(data)\n",
    "data.drop('Attribute_3', axis=1, inplace=True)\n",
    "data.drop('Attribute_4', axis=1, inplace=True)\n",
    "data.drop('Target', axis=1, inplace=True)\n",
    "data.plot(style=['ro','bo'])"
   ]
  },
  {
   "cell_type": "code",
   "execution_count": null,
   "metadata": {
    "collapsed": false
   },
   "outputs": [],
   "source": [
    "# mapping iris labels to integers\n",
    "# labelEncoder = preprocessing.LabelEncoder()\n",
    "# to encode\n",
    "# data.Target = labelEncoder.fit_transform(data.Target)\n",
    "# to convert back\n",
    "# data.Target = labelEncoder.inverse_transform(data.Target)\n",
    "\n",
    "labelEncoder = preprocessing.LabelEncoder()\n",
    "t_vector = labelEncoder.fit_transform(data.Target) # this is the target vector\n",
    "print(t_vector)"
   ]
  },
  {
   "cell_type": "code",
   "execution_count": null,
   "metadata": {
    "collapsed": false
   },
   "outputs": [],
   "source": [
    "# getting matrix X ready by \n",
    "# erasing target column,\n",
    "# adding bias column, and\n",
    "# getting the numpy array\n",
    "INPUTS_LENGTH = 4\n",
    "DATASET_LENGTH = len(data)\n",
    "\n",
    "data.drop('Target', axis=1, inplace=True)\n",
    "data[\"Bias\"] = np.ones(DATASET_LENGTH)\n",
    "X_matrix = data.values\n",
    "print(X_matrix)"
   ]
  },
  {
   "cell_type": "code",
   "execution_count": null,
   "metadata": {
    "collapsed": false
   },
   "outputs": [],
   "source": [
    "# ininializing weight matrix\n",
    "\n",
    "w_vector = np.random.rand(INPUTS_LENGTH + 1) # last entry is for the bias\n",
    "print(w_vector)"
   ]
  },
  {
   "cell_type": "code",
   "execution_count": null,
   "metadata": {
    "collapsed": false
   },
   "outputs": [],
   "source": [
    "# activation function\n",
    "def activation_function(entry):\n",
    "    if entry >= 1:\n",
    "        return 1\n",
    "    else:\n",
    "        return -1 #0\n",
    "    \n"
   ]
  },
  {
   "cell_type": "code",
   "execution_count": null,
   "metadata": {
    "collapsed": true
   },
   "outputs": [],
   "source": [
    "def plot_figure(x, y):\n",
    "    plt.close(\"all\")\n",
    "    figure = plt.figure()\n",
    "    figure.clf()\n",
    "\n",
    "    plt.plot(x, y)\n",
    "\n",
    "    figure.suptitle(\"Error\", fontsize=20)\n",
    "    plt.legend(loc='upper right')#,prop={'size':20}, bbox_to_anchor=(1, 0.5))\n",
    "    #figure.set_size_inches(3, 2)\n",
    "\n",
    "    return figure"
   ]
  },
  {
   "cell_type": "code",
   "execution_count": null,
   "metadata": {
    "collapsed": true
   },
   "outputs": [],
   "source": [
    "def perceptron_figure(x_classifier, y_classifier, x_points, y_points):\n",
    "    plt.close(\"all\")\n",
    "    figure = plt.figure()\n",
    "    figure.clf()\n",
    "\n",
    "    plt.scatter(x_points, y_points)\n",
    "    plt.plot(x_classifier, y_classifier)\n",
    "\n",
    "    figure.suptitle(\"Perceptron\", fontsize=20)\n",
    "    plt.legend(loc='upper right')#,prop={'size':20}, bbox_to_anchor=(1, 0.5))\n",
    "    #figure.set_size_inches(3, 2)\n",
    "\n",
    "    return figure"
   ]
  },
  {
   "cell_type": "code",
   "execution_count": null,
   "metadata": {
    "collapsed": false
   },
   "outputs": [],
   "source": [
    "# training perceptron\n",
    "w_vector = np.random.rand(INPUTS_LENGTH + 1) # last entry is for the bias\n",
    "\n",
    "EPOCHS = 10\n",
    "LEARNING_RATE = 0.001\n",
    "\n",
    "error_list = np.zeros(EPOCHS)\n",
    "accuracy_list = np.zeros(EPOCHS)\n",
    "boundary_list = np.zeros(EPOCHS)\n",
    "\n",
    "error_images = list()\n",
    "boundary_images = list()\n",
    "\n",
    "for epoch in range(0,EPOCHS):\n",
    "    \n",
    "    global_error = 0\n",
    "    \n",
    "    x_axis = np.linspace(0,7)\n",
    "    a, b = -w_vector[1]/w_vector[2], -w_vector[0]/w_vector[2] \n",
    "    y_axis = a * x_axis + b\n",
    "\n",
    "    boundary_figure = perceptron_figure(x_axis, y_axis, X_matrix[:,1], X_matrix[:,2])\n",
    "    boundary_image = Figtodat.fig2img(boundary_figure)\n",
    "    boundary_images.append(boundary_image)\n",
    "    \n",
    "    for row in range(0,DATASET_LENGTH-1):\n",
    "        x_vector = X_matrix[row] # this is a data instance\n",
    "        #print(\"x_vector\")\n",
    "        #print(x_vector)\n",
    "        #w_vector = W_matrix.transpose()[row]\n",
    "        \n",
    "        #print(\"w_vector before\")\n",
    "        #print(w_vector)\n",
    "        #print \"sum\"\n",
    "        #print np.dot(w_vector, x_vector)\n",
    "        h_scalar = activation_function(np.dot(w_vector, x_vector))\n",
    "        #print(\"h_scalar\")\n",
    "        #print(h_scalar)\n",
    "        t_scalar = t_vector[row]\n",
    "        #print(\"t_scalar\")\n",
    "        #print(t_scalar)\n",
    "        error = t_scalar - h_scalar\n",
    "        #print(\"error\")\n",
    "        #print(error)\n",
    "        #print \"w_vector_delta\"\n",
    "        #print (LEARNING_RATE * error * x_vector)\n",
    "        w_vector = w_vector + (LEARNING_RATE * error * x_vector)\n",
    "        #print(\"w_vector after\")\n",
    "        #print(w_vector)\n",
    "        #error_vector[row] = error\n",
    "        #print(\"error\")\n",
    "        #print(error)\n",
    "        global_error = global_error + (error * error)\n",
    "        #print(\"global error\")\n",
    "        #print(global_error)\n",
    "        \n",
    "        #break\n",
    "    #break\n",
    "    error_list[epoch] = global_error\n",
    "    x = np.linspace(start=0, stop=7, num=EPOCHS)\n",
    "    #print \"accuracy\"\n",
    "    #print accuracy\n",
    "    #accuracy_list[epoch] = accuracy\n",
    "    #print(\"error list\")\n",
    "    #print(error_list)\n",
    "    error_figure = plot_figure(x, error_list)\n",
    "    error_image = Figtodat.fig2img(error_figure)\n",
    "    error_images.append(error_image)\n",
    "    \n",
    "    #for i in range(EPOCHS):\n",
    "    #    boundary_list[i] = x[i] * ( (w_vector[2]/(1-w_vector[1])) + (1/(1-w_vector[1])) )\n",
    "    \n",
    "    #n = np.linalg.norm(w_vector)\n",
    "    #ww = w_vector/n\n",
    "    #ww1 = [ww[1], -ww[0]]\n",
    "    #ww2 = [-ww[1], ww[0]]\n",
    "        \n",
    "    #boundary_figure = perceptron_figure(x, boundary_list, X_matrix[:,1], X_matrix[:,2])\n",
    "    #boundary_image = Figtodat.fig2img(boundary_figure)\n",
    "    #boundary_images.append(boundary_image)\n",
    "\n",
    "#print \"x\"\n",
    "#print x\n",
    "#print \"y\"\n",
    "#print accuracy_list\n",
    "\n",
    "#x = np.linspace(start=0, stop=EPOCHS, num=EPOCHS)\n",
    "\n",
    "#plt.plot(x, error_list)\n",
    "print(len(error_images))\n",
    "writeGif(\"error.gif\",error_images,duration=0.20, repeat=3, dither=True)\n",
    "writeGif(\"boundary.gif\",boundary_images,duration=0.20, repeat=3, dither=False)\n",
    "            \n",
    "            \n",
    "        "
   ]
  },
  {
   "cell_type": "code",
   "execution_count": null,
   "metadata": {
    "collapsed": true
   },
   "outputs": [],
   "source": []
  }
 ],
 "metadata": {
  "kernelspec": {
   "display_name": "Python 3",
   "language": "python",
   "name": "python3"
  },
  "language_info": {
   "codemirror_mode": {
    "name": "ipython",
    "version": 3
   },
   "file_extension": ".py",
   "mimetype": "text/x-python",
   "name": "python",
   "nbconvert_exporter": "python",
   "pygments_lexer": "ipython3",
   "version": "3.5.2"
  }
 },
 "nbformat": 4,
 "nbformat_minor": 0
}
