{
 "cells": [
  {
   "cell_type": "code",
   "execution_count": 1,
   "metadata": {
    "collapsed": false
   },
   "outputs": [
    {
     "name": "stderr",
     "output_type": "stream",
     "text": [
      "/home/isai/anaconda2/lib/python2.7/site-packages/matplotlib/font_manager.py:273: UserWarning: Matplotlib is building the font cache using fc-list. This may take a moment.\n",
      "  warnings.warn('Matplotlib is building the font cache using fc-list. This may take a moment.')\n"
     ]
    }
   ],
   "source": [
    "import tensorflow as tf\n",
    "from tensorflow.examples.tutorials.mnist import input_data\n",
    "\n",
    "import numpy as np\n",
    "import matplotlib.pyplot as plt\n",
    "import matplotlib\n",
    "%matplotlib inline"
   ]
  },
  {
   "cell_type": "code",
   "execution_count": 2,
   "metadata": {
    "collapsed": false,
    "scrolled": true
   },
   "outputs": [
    {
     "name": "stdout",
     "output_type": "stream",
     "text": [
      "Extracting MNIST_data/train-images-idx3-ubyte.gz\n",
      "Extracting MNIST_data/train-labels-idx1-ubyte.gz\n",
      "Extracting MNIST_data/t10k-images-idx3-ubyte.gz\n",
      "Extracting MNIST_data/t10k-labels-idx1-ubyte.gz\n"
     ]
    }
   ],
   "source": [
    "mnist = input_data.read_data_sets('MNIST_data', one_hot=True)"
   ]
  },
  {
   "cell_type": "code",
   "execution_count": 3,
   "metadata": {
    "collapsed": true
   },
   "outputs": [],
   "source": [
    "TESTS = 200 #len(mnist.validation.images)\n",
    "LEARNING_RATE = 0.5\n",
    "\n",
    "# x and y coordinates to plot \n",
    "x_coordinates = np.linspace(0, TESTS, num=TESTS)\n",
    "loss_y_coordinates = np.zeros(TESTS)\n",
    "accuracy_y_coordinates = np.zeros(TESTS)\n",
    "\n",
    "def plot(x, y, limits, title, x_label_name, y_label_name):\n",
    "    plt.close(\"all\")\n",
    "    figure = plt.figure()\n",
    "    figure.clf()\n",
    "    \n",
    "    plt.plot(x, y)\n",
    "    \n",
    "    #plt.axis(limits)\n",
    "    plt.ylabel(y_label_name)\n",
    "    plt.xlabel(x_label_name)\n",
    "\n",
    "    figure.suptitle(title, fontsize=20)\n",
    "    plt.legend(loc='upper right')\n",
    "    \n",
    "    plt.show()\n",
    "    return\n",
    "\n",
    "def scatter(x, y, limits, title, x_label_name, y_label_name):\n",
    "    plt.close(\"all\")\n",
    "    figure = plt.figure()\n",
    "    figure.clf()\n",
    "    \n",
    "    plt.scatter(x, y)\n",
    "    \n",
    "    #plt.axis(limits)\n",
    "    plt.ylabel(y_label_name)\n",
    "    plt.xlabel(x_label_name)\n",
    "\n",
    "    figure.suptitle(title, fontsize=20)\n",
    "    plt.legend(loc='upper right')\n",
    "    \n",
    "    plt.show()\n",
    "    return\n",
    "\n",
    "def plot_cross_entropy():\n",
    "    limits = [0,TESTS,0,5]\n",
    "    plot(x_coordinates, loss_y_coordinates, limits, \"Validation Set Cross Entropy\", \"Validation Images\", \"Entropy\")  \n",
    "    return\n",
    "\n",
    "def plot_accuracy():\n",
    "    limits = [0,TESTS,0,1]\n",
    "    scatter(x_coordinates, accuracy_y_coordinates, limits, \"Validation Set Accuracy\", \"Validation Images\", \"Accuracy\")\n",
    "    return"
   ]
  },
  {
   "cell_type": "code",
   "execution_count": 4,
   "metadata": {
    "collapsed": false
   },
   "outputs": [],
   "source": [
    "# Model Definition\n",
    "\n",
    "def weight_variable(shape,name):\n",
    "    gaussian_matrix = tf.truncated_normal(shape, stddev=0.1)\n",
    "    weight_matrix = tf.Variable(gaussian_matrix, name=name)\n",
    "    return weight_matrix\n",
    "\n",
    "def bias_variable(shape,name):\n",
    "    gaussian_vector = tf.truncated_normal(shape, stddev=0.1)\n",
    "    bias_vector = tf.Variable(gaussian_vector, name=name)\n",
    "    return bias_vector\n",
    "\n",
    "\n",
    "FEATURES = 784\n",
    "HIDDEN_NODES = 20\n",
    "CLASSES = 10\n",
    "\n",
    "with tf.name_scope(\"input_layer\") as scope:\n",
    "    features_matrix = tf.placeholder(tf.float32, [None, FEATURES], name=\"features_matrix\")\n",
    "    targets_matrix = tf.placeholder(tf.float32, [None, CLASSES], name=\"targets_matrix\")\n",
    "\n",
    "with tf.name_scope(\"hidden_layer1\") as scope:\n",
    "    # hidden inputs\n",
    "    weight_matrix_h1 = weight_variable([FEATURES, HIDDEN_NODES], name=\"weight_matrix_h1\")\n",
    "    bias_vector_h1 = bias_variable([HIDDEN_NODES], name=\"bias_vector_h1\")\n",
    "    \n",
    "    # linear operation\n",
    "    hidden_matrix_linear_h1 = tf.matmul(features_matrix, weight_matrix_h1) + bias_vector_h1\n",
    "    \n",
    "    # nonlinear operations\n",
    "    hidden_matrix_nonlinear_h1 = tf.nn.relu(hidden_matrix_linear_h1)\n",
    "    \n",
    "\n",
    "with tf.name_scope(\"hidden_layer2\") as scope:\n",
    "    # hidden inputs\n",
    "    weight_matrix_h2 = weight_variable([HIDDEN_NODES, HIDDEN_NODES], name=\"weight_matrix_h2\")\n",
    "    bias_vector_h2 = bias_variable([HIDDEN_NODES], name=\"bias_vector_h2\")\n",
    "    \n",
    "    # linear operation\n",
    "    hidden_matrix_linear_h2 = tf.matmul(hidden_matrix_nonlinear_h1, weight_matrix_h2) + bias_vector_h2\n",
    "    \n",
    "    # nonlinear operations\n",
    "    hidden_matrix_nonlinear_h2 = tf.nn.relu(hidden_matrix_linear_h2)\n",
    "    \n",
    "\n",
    "with tf.name_scope(\"hidden_layer3\") as scope:\n",
    "    # hidden inputs\n",
    "    weight_matrix_h3 = weight_variable([HIDDEN_NODES, HIDDEN_NODES], name=\"weight_matrix_h3\")\n",
    "    bias_vector_h3 = bias_variable([HIDDEN_NODES], name=\"bias_vector_h3\")\n",
    "    \n",
    "    # linear operation\n",
    "    hidden_matrix_linear_h3 = tf.matmul(hidden_matrix_nonlinear_h2, weight_matrix_h3) + bias_vector_h3\n",
    "    \n",
    "    # nonlinear operations\n",
    "    hidden_matrix_nonlinear_h3 = tf.nn.relu(hidden_matrix_linear_h3)\n",
    "    \n",
    "\n",
    "with tf.name_scope(\"output_layer\") as scope:\n",
    "    # hidden inputs\n",
    "    weight_matrix_out = weight_variable([HIDDEN_NODES, CLASSES], name=\"weight_matrix_out\")\n",
    "    bias_vector_out = bias_variable([CLASSES], name=\"bias_vector_out\")\n",
    "    \n",
    "    # linear operation\n",
    "    output_matrix = tf.matmul(hidden_matrix_nonlinear_h3, weight_matrix_out) + bias_vector_out\n",
    "    \n",
    "    # making output matrix a matrix of probabilities\n",
    "    probabilities_matrix = tf.nn.softmax(output_matrix)\n",
    "    \n",
    "with tf.name_scope(\"loss\") as scope:\n",
    "    loss_function = tf.reduce_mean(-tf.reduce_sum(targets_matrix * tf.log(probabilities_matrix), reduction_indices=[1]))\n",
    "    train_step = tf.train.GradientDescentOptimizer(LEARNING_RATE).minimize(loss_function)\n",
    "\n",
    "with tf.name_scope(\"accuracy\") as scope:\n",
    "    predictions_vector = tf.equal(tf.argmax(targets_matrix,1), tf.argmax(probabilities_matrix,1))\n",
    "    accuracy = tf.reduce_mean(tf.cast(predictions_vector, tf.float32))"
   ]
  },
  {
   "cell_type": "code",
   "execution_count": 5,
   "metadata": {
    "collapsed": false
   },
   "outputs": [],
   "source": [
    "# Restoring model\n",
    "sess = tf.Session()\n",
    "saver = tf.train.Saver()\n",
    "saver.restore(sess, \"./VanillaNet_Trained_Model/vanilla_net_trained_model.ckpt\")"
   ]
  },
  {
   "cell_type": "code",
   "execution_count": 6,
   "metadata": {
    "collapsed": false
   },
   "outputs": [],
   "source": [
    "# Validating model\n",
    "for test in range(TESTS):\n",
    "    features_matrix_validation = mnist.validation.images[test].reshape((1,784))\n",
    "    targets_matrix_validation = mnist.validation.labels[test].reshape((1,10))\n",
    "    prediction = sess.run(predictions_vector, feed_dict={features_matrix: features_matrix_validation, targets_matrix: targets_matrix_validation})\n",
    "    \n",
    "    loss_scalar = sess.run(loss_function, feed_dict={features_matrix: features_matrix_validation, targets_matrix: targets_matrix_validation})\n",
    "    accuracy_scalar = sess.run(accuracy, feed_dict={features_matrix: features_matrix_validation, targets_matrix: targets_matrix_validation})\n",
    "    \n",
    "    loss_y_coordinates[test] = loss_scalar\n",
    "    accuracy_y_coordinates[test] = accuracy_scalar"
   ]
  },
  {
   "cell_type": "code",
   "execution_count": 7,
   "metadata": {
    "collapsed": false
   },
   "outputs": [
    {
     "name": "stderr",
     "output_type": "stream",
     "text": [
      "/home/isai/anaconda2/lib/python2.7/site-packages/matplotlib/axes/_axes.py:519: UserWarning: No labelled objects found. Use label='...' kwarg on individual plots.\n",
      "  warnings.warn(\"No labelled objects found. \"\n"
     ]
    },
    {
     "data": {
      "image/png": "[encoded data removed]",
      "text/plain": [
       "<matplotlib.figure.Figure at 0x7f070e31e250>"
      ]
     },
     "metadata": {},
     "output_type": "display_data"
    }
   ],
   "source": [
    "plot_cross_entropy()"
   ]
  },
  {
   "cell_type": "code",
   "execution_count": 8,
   "metadata": {
    "collapsed": false
   },
   "outputs": [
    {
     "data": {
      "image/png": "[encoded data removed]",
      "text/plain": [
       "<matplotlib.figure.Figure at 0x7f070330a450>"
      ]
     },
     "metadata": {},
     "output_type": "display_data"
    }
   ],
   "source": [
    "plot_accuracy()"
   ]
  },
  {
   "cell_type": "code",
   "execution_count": 9,
   "metadata": {
    "collapsed": false
   },
   "outputs": [
    {
     "name": "stdout",
     "output_type": "stream",
     "text": [
      "Validation Set Mean Accuracy\n",
      "0.945\n"
     ]
    }
   ],
   "source": [
    "mean_accuracy = np.mean(accuracy_y_coordinates)\n",
    "\n",
    "print(\"Validation Set Mean Accuracy\")\n",
    "print(mean_accuracy)"
   ]
  },
  {
   "cell_type": "code",
   "execution_count": null,
   "metadata": {
    "collapsed": true
   },
   "outputs": [],
   "source": []
  }
 ],
 "metadata": {
  "kernelspec": {
   "display_name": "Python 2",
   "language": "python",
   "name": "python2"
  },
  "language_info": {
   "codemirror_mode": {
    "name": "ipython",
    "version": 2
   },
   "file_extension": ".py",
   "mimetype": "text/x-python",
   "name": "python",
   "nbconvert_exporter": "python",
   "pygments_lexer": "ipython2",
   "version": "2.7.12"
  }
 },
 "nbformat": 4,
 "nbformat_minor": 0
}
