{
 "cells": [
  {
   "cell_type": "code",
   "execution_count": 1,
   "metadata": {
    "collapsed": true
   },
   "outputs": [],
   "source": [
    "import tensorflow as tf\n",
    "import numpy as np\n",
    "from tensorflow.examples.tutorials.mnist import input_data\n",
    "import matplotlib.pyplot as plt\n",
    "from tensorflow.python.framework import ops\n",
    "%matplotlib inline"
   ]
  },
  {
   "cell_type": "code",
   "execution_count": 2,
   "metadata": {
    "collapsed": false
   },
   "outputs": [
    {
     "name": "stdout",
     "output_type": "stream",
     "text": [
      "Extracting MNIST_data/train-images-idx3-ubyte.gz\n",
      "Extracting MNIST_data/train-labels-idx1-ubyte.gz\n",
      "Extracting MNIST_data/t10k-images-idx3-ubyte.gz\n",
      "Extracting MNIST_data/t10k-labels-idx1-ubyte.gz\n"
     ]
    }
   ],
   "source": [
    "# NOTE: we're using a single, fixed batch of the first 1000 images\n",
    "mnist = input_data.read_data_sets( \"MNIST_data/\", one_hot=True )"
   ]
  },
  {
   "cell_type": "code",
   "execution_count": 3,
   "metadata": {
    "collapsed": false
   },
   "outputs": [],
   "source": [
    "def plot_lambdas(x_points, \n",
    "                 training_points, \n",
    "                 test_points, \n",
    "                 baseline_points, \n",
    "                 title, \n",
    "                 label_x, \n",
    "                 label_y,\n",
    "                 label_baseline,\n",
    "                 label_training,\n",
    "                 label_test):\n",
    "    \n",
    "    plt.figure(figsize=(10,7))\n",
    "    plt.ylim((0.0,1.0))\n",
    "    plt.xticks(x_points)\n",
    "    plt.plot(x_points, baseline_points,'r', label=label_baseline)\n",
    "    plt.plot(x_points, training_points,'b', label=label_training) \n",
    "    plt.plot(x_points, test_points,'g', label=label_test) \n",
    "    plt.title(title)\n",
    "    plt.xlabel(label_x)\n",
    "    plt.ylabel(label_y)\n",
    "    plt.legend(loc='upper right')\n",
    "    \n",
    "    plt.show()"
   ]
  },
  {
   "cell_type": "code",
   "execution_count": 4,
   "metadata": {
    "collapsed": false
   },
   "outputs": [],
   "source": [
    "def weight_variable(shape):\n",
    "    initial = tf.truncated_normal( shape, stddev=0.1 )\n",
    "    return tf.Variable( initial )\n",
    "\n",
    "def bias_variable(shape):\n",
    "    initial = tf.constant( 0.1, shape=shape )\n",
    "    return tf.Variable(initial)"
   ]
  },
  {
   "cell_type": "code",
   "execution_count": 5,
   "metadata": {
    "collapsed": true
   },
   "outputs": [],
   "source": [
    "def L1_regularization(W_matrix, lambda_scalar):\n",
    "    positive_matrix = tf.abs(W_matrix)\n",
    "    sum_scalar = tf.reduce_sum(positive_matrix)\n",
    "    penalty_scalar = tf.mul(lambda_scalar, sum_scalar)\n",
    "    return penalty_scalar"
   ]
  },
  {
   "cell_type": "code",
   "execution_count": 6,
   "metadata": {
    "collapsed": false
   },
   "outputs": [],
   "source": [
    "y = tf.placeholder( tf.float32, shape=[None, 10], name=\"y\" )\n",
    "x = tf.placeholder( tf.float32, shape=[None, 784], name=\"x\" )\n",
    "lamb = tf.placeholder( tf.float32 , name=\"lambda\")\n",
    "\n",
    "\n",
    "W1 = weight_variable([784, 500])\n",
    "b1 = bias_variable([500])\n",
    "h1 = tf.nn.relu( tf.matmul( x, W1 ) + b1 )\n",
    "\n",
    "\n",
    "W2 = weight_variable([500, 500])\n",
    "b2 = bias_variable([500])\n",
    "h2 = tf.nn.relu( tf.matmul( h1, W2 ) + b2 )\n",
    "\n",
    "\n",
    "W3 = weight_variable([500, 1000])\n",
    "b3 = bias_variable([1000])\n",
    "h3 = tf.nn.relu( tf.matmul( h2, W3 ) + b3 )\n",
    "\n",
    "\n",
    "W4 = weight_variable([1000, 10])\n",
    "b4 = bias_variable([10])\n",
    "predictions = tf.nn.softmax(tf.matmul(h3, W4) + b4)\n",
    "\n",
    "\n",
    "cross_entropy_scalar = tf.reduce_mean(-tf.reduce_sum(y * tf.log(predictions), reduction_indices=[1]))\n",
    "W1_penalty = L1_regularization(W1, lamb)\n",
    "b1_penalty = L1_regularization(b1, lamb)\n",
    "W2_penalty = L1_regularization(W2, lamb)\n",
    "b2_penalty = L1_regularization(b2, lamb)\n",
    "W3_penalty = L1_regularization(W3, lamb)\n",
    "b3_penalty = L1_regularization(b3, lamb)\n",
    "total_penalty_scalar = tf.add_n([W1_penalty, b1_penalty, W2_penalty, b2_penalty, W3_penalty, b3_penalty])\n",
    "regularized_error = tf.add(cross_entropy_scalar, total_penalty_scalar)\n",
    "\n",
    "\n",
    "correct_prediction = tf.equal(tf.argmax(predictions,1), tf.argmax(y,1))\n",
    "accuracy = tf.reduce_mean(tf.cast(correct_prediction, tf.float32))\n",
    "\n",
    "\n",
    "train_step = tf.train.AdamOptimizer(1e-4).minimize(regularized_error)"
   ]
  },
  {
   "cell_type": "code",
   "execution_count": 7,
   "metadata": {
    "collapsed": false
   },
   "outputs": [
    {
     "name": "stdout",
     "output_type": "stream",
     "text": [
      "Starting Round\n",
      "Starting Round\n",
      "Starting Round\n"
     ]
    },
    {
     "data": {
      "image/png": "[encoded data removed]",
      "text/plain": [
       "<matplotlib.figure.Figure at 0x7f23c80a4c50>"
      ]
     },
     "metadata": {},
     "output_type": "display_data"
    }
   ],
   "source": [
    "images = mnist.train.images[ 0:1000, : ]\n",
    "labels = mnist.train.labels[ 0:1000, : ]\n",
    "lambdas = [ 0.001, 0.01, 0.1]\n",
    "length = len(lambdas)\n",
    "\n",
    "training_points = np.zeros(length)\n",
    "test_points = np.zeros(length)\n",
    "baseline_points = [0.8153] * length\n",
    "\n",
    "\n",
    "for i in range(length):\n",
    "    with tf.Session() as sess:\n",
    "        _lambda = lambdas[i]\n",
    "        sess.run( tf.initialize_all_variables() )\n",
    "        print(\"Starting Round\")\n",
    "\n",
    "        for j in range( 150 ):\n",
    "            sess.run( train_step, feed_dict={ x: images, y: labels, lamb: _lambda} )\n",
    "\n",
    "        train_acc = sess.run( accuracy, feed_dict={ x: images, y: labels, lamb: _lambda} )\n",
    "        test_acc = sess.run( accuracy, feed_dict={ x: mnist.test.images, y: mnist.test.labels, lamb: _lambda} )\n",
    "\n",
    "        training_points[i] = train_acc\n",
    "        test_points[i] = test_acc\n",
    "\n",
    "        \n",
    "plot_lambdas(x_points = lambdas, \n",
    "             training_points = training_points, \n",
    "             test_points = test_points, \n",
    "             baseline_points = baseline_points, \n",
    "             title = \"L1 Accuracy as a Function of Lambda\", \n",
    "             label_x = \"Lambda\", \n",
    "             label_y = \"Accuracy\",\n",
    "             label_baseline = \"Baseline\",\n",
    "             label_training = \"Training\",\n",
    "             label_test = \"Test\")\n"
   ]
  },
  {
   "cell_type": "code",
   "execution_count": null,
   "metadata": {
    "collapsed": true
   },
   "outputs": [],
   "source": []
  }
 ],
 "metadata": {
  "kernelspec": {
   "display_name": "Python 2",
   "language": "python",
   "name": "python2"
  },
  "language_info": {
   "codemirror_mode": {
    "name": "ipython",
    "version": 2
   },
   "file_extension": ".py",
   "mimetype": "text/x-python",
   "name": "python",
   "nbconvert_exporter": "python",
   "pygments_lexer": "ipython2",
   "version": "2.7.12"
  }
 },
 "nbformat": 4,
 "nbformat_minor": 0
}
