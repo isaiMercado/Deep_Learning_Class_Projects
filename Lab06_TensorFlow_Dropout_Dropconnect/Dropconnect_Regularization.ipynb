{
 "cells": [
  {
   "cell_type": "code",
   "execution_count": 1,
   "metadata": {
    "collapsed": true
   },
   "outputs": [],
   "source": [
    "import tensorflow as tf\n",
    "import numpy as np\n",
    "from tensorflow.examples.tutorials.mnist import input_data\n",
    "import matplotlib.pyplot as plt\n",
    "from tensorflow.python.framework import ops\n",
    "%matplotlib inline"
   ]
  },
  {
   "cell_type": "code",
   "execution_count": 2,
   "metadata": {
    "collapsed": false
   },
   "outputs": [
    {
     "name": "stdout",
     "output_type": "stream",
     "text": [
      "Extracting MNIST_data/train-images-idx3-ubyte.gz\n",
      "Extracting MNIST_data/train-labels-idx1-ubyte.gz\n",
      "Extracting MNIST_data/t10k-images-idx3-ubyte.gz\n",
      "Extracting MNIST_data/t10k-labels-idx1-ubyte.gz\n"
     ]
    }
   ],
   "source": [
    "# NOTE: we're using a single, fixed batch of the first 1000 images\n",
    "mnist = input_data.read_data_sets( \"MNIST_data/\", one_hot=True )"
   ]
  },
  {
   "cell_type": "code",
   "execution_count": 3,
   "metadata": {
    "collapsed": true
   },
   "outputs": [],
   "source": [
    "def plot_keep_probability(x_points, \n",
    "                          training_points, \n",
    "                          test_points, \n",
    "                          baseline_points, \n",
    "                          title, \n",
    "                          label_x, \n",
    "                          label_y,\n",
    "                          label_baseline,\n",
    "                          label_training,\n",
    "                          label_test):\n",
    "    \n",
    "    plt.figure(figsize=(10,7))\n",
    "    plt.ylim((0.0,1.0))\n",
    "    plt.plot(x_points, baseline_points,'r', label=label_baseline)\n",
    "    plt.plot(x_points, training_points,'b', label=label_training) \n",
    "    plt.plot(x_points, test_points,'g', label=label_test) \n",
    "    \n",
    "    plt.title(title)\n",
    "    plt.xlabel(label_x)\n",
    "    plt.ylabel(label_y)\n",
    "    plt.legend(loc='upper right')\n",
    "    \n",
    "    plt.show()"
   ]
  },
  {
   "cell_type": "code",
   "execution_count": 4,
   "metadata": {
    "collapsed": true
   },
   "outputs": [],
   "source": [
    "def dropconnect(connections, keep_probability):\n",
    "    shape = tf.shape(connections)\n",
    "    random_matrix = tf.random_uniform(shape, minval=0.0, maxval=1.0)\n",
    "    ones_matrix = tf.ones(shape)\n",
    "    zeros_matrix = tf.zeros(shape)\n",
    "    \n",
    "    binary_matrix = tf.select(random_matrix <= keep_probability, ones_matrix, zeros_matrix)\n",
    "    dropconnect_output = tf.mul(binary_matrix, connections)\n",
    "    return dropconnect_output"
   ]
  },
  {
   "cell_type": "code",
   "execution_count": 5,
   "metadata": {
    "collapsed": false
   },
   "outputs": [],
   "source": [
    "def weight_variable(shape):\n",
    "    initial = tf.truncated_normal( shape, stddev=0.1 )\n",
    "    return tf.Variable( initial )\n",
    "\n",
    "def bias_variable(shape):\n",
    "    initial = tf.constant( 0.1, shape=shape )\n",
    "    return tf.Variable(initial)\n",
    "\n",
    "y_ = tf.placeholder( tf.float32, shape=[None, 10], name=\"y_\" )\n",
    "x = tf.placeholder( tf.float32, shape=[None, 784], name=\"x\" )\n",
    "kp = tf.placeholder( tf.float32 , name=\"keep_probability\")\n",
    "\n",
    "\n",
    "W1 = weight_variable([784, 500])\n",
    "W1 = dropconnect(W1, kp)\n",
    "b1 = bias_variable([500])\n",
    "b1 = dropconnect(b1, kp)\n",
    "\n",
    "h1 = tf.nn.relu( tf.matmul( x, W1 ) + b1 )\n",
    "\n",
    "\n",
    "W2 = weight_variable([500, 500])\n",
    "W2 = dropconnect(W2, kp)\n",
    "b2 = bias_variable([500])\n",
    "b2 = dropconnect(b2, kp)\n",
    "\n",
    "h2 = tf.nn.relu( tf.matmul( h1, W2 ) + b2 )\n",
    "\n",
    "\n",
    "W3 = weight_variable([500, 1000])\n",
    "W3 = dropconnect(W3, kp)\n",
    "b3 = bias_variable([1000])\n",
    "b3 = dropconnect(b3, kp)\n",
    "\n",
    "h3 = tf.nn.relu( tf.matmul( h2, W3 ) + b3 )\n",
    "\n",
    "\n",
    "W4 = weight_variable([1000, 10])\n",
    "b4 = bias_variable([10])\n",
    "y_hat = tf.nn.softmax(tf.matmul(h3, W4) + b4)\n",
    "\n",
    "\n",
    "cross_entropy = tf.reduce_mean(-tf.reduce_sum(y_ * tf.log(y_hat), reduction_indices=[1]))\n",
    "xent_summary = tf.scalar_summary( 'xent', cross_entropy )\n",
    "\n",
    "\n",
    "correct_prediction = tf.equal(tf.argmax(y_hat,1), tf.argmax(y_,1))\n",
    "accuracy = tf.reduce_mean(tf.cast(correct_prediction, tf.float32))\n",
    "acc_summary = tf.scalar_summary( 'accuracy', accuracy )\n",
    "\n",
    "\n",
    "train_step = tf.train.AdamOptimizer(1e-4).minimize(cross_entropy)"
   ]
  },
  {
   "cell_type": "code",
   "execution_count": 6,
   "metadata": {
    "collapsed": false
   },
   "outputs": [
    {
     "name": "stdout",
     "output_type": "stream",
     "text": [
      "Starting Round\n",
      "Starting Round\n",
      "Starting Round\n",
      "Starting Round\n",
      "Starting Round\n"
     ]
    },
    {
     "data": {
      "image/png": "[encoded data removed]",
      "text/plain": [
       "<matplotlib.figure.Figure at 0x7f299cdb6c90>"
      ]
     },
     "metadata": {},
     "output_type": "display_data"
    }
   ],
   "source": [
    "images = mnist.train.images[ 0:1000, : ]\n",
    "labels = mnist.train.labels[ 0:1000, : ]\n",
    "keep_probabilities = [ 0.1, 0.25, 0.5, 0.75, 1.0 ]\n",
    "\n",
    "\n",
    "training_points = np.zeros(5)\n",
    "test_points = np.zeros(5)\n",
    "baseline_points = [0.8153] * 5\n",
    "\n",
    "\n",
    "for i in range(len(keep_probabilities)):\n",
    "    with tf.Session() as sess:\n",
    "        keep_probability = keep_probabilities[i]\n",
    "        sess.run( tf.initialize_all_variables() )\n",
    "        print(\"Starting Round\") \n",
    "        \n",
    "        for j in range( 1500 ):\n",
    "            sess.run( [ train_step, accuracy ], feed_dict={ x: images, y_: labels, kp: keep_probability} )\n",
    "\n",
    "        final_train_acc = sess.run( accuracy, feed_dict={ x: images, y_: labels, kp: 1.0} )\n",
    "        final_test_acc = sess.run( accuracy, feed_dict={ x: mnist.test.images, y_: mnist.test.labels, kp: 1.0} )\n",
    "\n",
    "        training_points[i] = final_train_acc\n",
    "        test_points[i] = final_test_acc\n",
    "\n",
    "        \n",
    "plot_keep_probability(x_points = keep_probabilities, \n",
    "                      training_points = training_points, \n",
    "                      test_points = test_points, \n",
    "                      baseline_points = baseline_points, \n",
    "                      title = \"Dropconnect Accuracy as a Function of the Keep Probability\", \n",
    "                      label_x = \"Keep Probability\", \n",
    "                      label_y = \"Accuracy\",\n",
    "                      label_baseline = \"Baseline\",\n",
    "                      label_training = \"Training\",\n",
    "                      label_test = \"Test\")\n"
   ]
  }
 ],
 "metadata": {
  "kernelspec": {
   "display_name": "Python 2",
   "language": "python",
   "name": "python2"
  },
  "language_info": {
   "codemirror_mode": {
    "name": "ipython",
    "version": 2
   },
   "file_extension": ".py",
   "mimetype": "text/x-python",
   "name": "python",
   "nbconvert_exporter": "python",
   "pygments_lexer": "ipython2",
   "version": "2.7.12"
  }
 },
 "nbformat": 4,
 "nbformat_minor": 0
}
