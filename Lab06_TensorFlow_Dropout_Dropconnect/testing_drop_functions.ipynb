{
 "cells": [
  {
   "cell_type": "code",
   "execution_count": 1,
   "metadata": {
    "collapsed": true
   },
   "outputs": [],
   "source": [
    "import tensorflow as tf\n",
    "import numpy as np\n",
    "from tensorflow.examples.tutorials.mnist import input_data\n",
    "import matplotlib.pyplot as plt\n",
    "from tensorflow.python.framework import ops\n",
    "%matplotlib inline"
   ]
  },
  {
   "cell_type": "code",
   "execution_count": 2,
   "metadata": {
    "collapsed": false
   },
   "outputs": [
    {
     "name": "stdout",
     "output_type": "stream",
     "text": [
      "Extracting MNIST_data/train-images-idx3-ubyte.gz\n",
      "Extracting MNIST_data/train-labels-idx1-ubyte.gz\n",
      "Extracting MNIST_data/t10k-images-idx3-ubyte.gz\n",
      "Extracting MNIST_data/t10k-labels-idx1-ubyte.gz\n"
     ]
    }
   ],
   "source": [
    "# NOTE: we're using a single, fixed batch of the first 1000 images\n",
    "mnist = input_data.read_data_sets( \"MNIST_data/\", one_hot=True )"
   ]
  },
  {
   "cell_type": "code",
   "execution_count": 10,
   "metadata": {
    "collapsed": false
   },
   "outputs": [],
   "source": [
    "x = tf.placeholder( tf.float32, shape=[1, 10], name=\"x\" )\n",
    "kp = tf.placeholder( tf.float32 , name=\"keep_probability\")\n",
    "\n",
    "shape = tf.shape(x)\n",
    "random_matrix = tf.random_uniform(shape, minval=0.0, maxval=1.0)\n",
    "ones_matrix = tf.ones(shape)\n",
    "zeros_matrix = tf.zeros(shape)\n",
    "\n",
    "binary_matrix = tf.select(random_matrix < kp, ones_matrix, zeros_matrix)\n",
    "dropconnect_output = tf.mul(binary_matrix, x)"
   ]
  },
  {
   "cell_type": "code",
   "execution_count": 29,
   "metadata": {
    "collapsed": false
   },
   "outputs": [
    {
     "name": "stdout",
     "output_type": "stream",
     "text": [
      "Input\n",
      "[[ 0.24613066  0.10800527  0.6986029   0.26671442  0.28977653  0.62723763\n",
      "   0.69514262  0.02279117  0.73271263  0.910386  ]]\n",
      "Output\n",
      "[[ 0.          0.          0.          0.          0.          0.62723762\n",
      "   0.          0.          0.          0.        ]]\n",
      "Input\n",
      "[[ 0.08224379  0.55108503  0.86850628  0.07588558  0.94333242  0.55676944\n",
      "   0.00751323  0.75180086  0.00752344  0.41621292]]\n",
      "Output\n",
      "[[ 0.08224379  0.          0.          0.          0.94333243  0.          0.\n",
      "   0.75180084  0.          0.        ]]\n",
      "Input\n",
      "[[ 0.81128137  0.65598691  0.38497021  0.55921232  0.67798099  0.85772239\n",
      "   0.50062931  0.51164941  0.8932589   0.53788118]]\n",
      "Output\n",
      "[[ 0.81128138  0.          0.38497022  0.          0.67798102  0.          0.\n",
      "   0.          0.          0.5378812 ]]\n",
      "Input\n",
      "[[ 0.44356362  0.80635089  0.05868573  0.32586733  0.40443325  0.31415586\n",
      "   0.316097    0.85040201  0.29924898  0.13502222]]\n",
      "Output\n",
      "[[ 0.44356361  0.80635089  0.          0.32586733  0.          0.\n",
      "   0.31609699  0.850402    0.29924899  0.13502222]]\n",
      "Input\n",
      "[[ 0.41837567  0.62685488  0.95413247  0.65993598  0.09648022  0.70185032\n",
      "   0.10602342  0.77354731  0.18781832  0.42368083]]\n",
      "Output\n",
      "[[ 0.41837567  0.6268549   0.9541325   0.65993595  0.09648022  0.7018503\n",
      "   0.10602342  0.77354729  0.18781832  0.42368084]]\n"
     ]
    }
   ],
   "source": [
    "for prob in [0.1,0.25,0.5,0.75,1.0]:\n",
    "    with tf.Session() as sess:\n",
    "        keep_probability = 0.8\n",
    "        sess.run( tf.initialize_all_variables() )\n",
    "    \n",
    "        input_matrix = np.random.rand(1,10)\n",
    "        output_matrix = sess.run( dropconnect_output, feed_dict={ x: input_matrix, kp: prob} )\n",
    "        print(\"Input\")\n",
    "        print(input_matrix)\n",
    "        print(\"Output\")\n",
    "        print(output_matrix)\n",
    "\n",
    "        "
   ]
  },
  {
   "cell_type": "code",
   "execution_count": null,
   "metadata": {
    "collapsed": true
   },
   "outputs": [],
   "source": []
  },
  {
   "cell_type": "code",
   "execution_count": null,
   "metadata": {
    "collapsed": true
   },
   "outputs": [],
   "source": []
  }
 ],
 "metadata": {
  "kernelspec": {
   "display_name": "Python 2",
   "language": "python",
   "name": "python2"
  },
  "language_info": {
   "codemirror_mode": {
    "name": "ipython",
    "version": 2
   },
   "file_extension": ".py",
   "mimetype": "text/x-python",
   "name": "python",
   "nbconvert_exporter": "python",
   "pygments_lexer": "ipython2",
   "version": "2.7.12"
  }
 },
 "nbformat": 4,
 "nbformat_minor": 0
}
