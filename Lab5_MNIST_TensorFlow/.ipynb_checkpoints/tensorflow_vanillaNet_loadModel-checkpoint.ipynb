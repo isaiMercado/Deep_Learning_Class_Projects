{
 "cells": [
  {
   "cell_type": "code",
   "execution_count": 1,
   "metadata": {
    "collapsed": false
   },
   "outputs": [
    {
     "name": "stderr",
     "output_type": "stream",
     "text": [
      "/home/isai/anaconda2/lib/python2.7/site-packages/matplotlib/font_manager.py:273: UserWarning: Matplotlib is building the font cache using fc-list. This may take a moment.\n",
      "  warnings.warn('Matplotlib is building the font cache using fc-list. This may take a moment.')\n"
     ]
    }
   ],
   "source": [
    "import tensorflow as tf\n",
    "from tensorflow.examples.tutorials.mnist import input_data\n",
    "\n",
    "import numpy as np\n",
    "import matplotlib.pyplot as plt\n",
    "import matplotlib\n",
    "%matplotlib inline\n",
    "\n",
    "from freeze_graph import freeze_graph"
   ]
  },
  {
   "cell_type": "code",
   "execution_count": 2,
   "metadata": {
    "collapsed": false
   },
   "outputs": [
    {
     "name": "stdout",
     "output_type": "stream",
     "text": [
      "Extracting MNIST_data/train-images-idx3-ubyte.gz\n",
      "Extracting MNIST_data/train-labels-idx1-ubyte.gz\n",
      "Extracting MNIST_data/t10k-images-idx3-ubyte.gz\n",
      "Extracting MNIST_data/t10k-labels-idx1-ubyte.gz\n"
     ]
    }
   ],
   "source": [
    "mnist = input_data.read_data_sets('MNIST_data', one_hot=True)"
   ]
  },
  {
   "cell_type": "code",
   "execution_count": 3,
   "metadata": {
    "collapsed": true
   },
   "outputs": [],
   "source": [
    "TESTS = 200 #len(mnist.validation.images)\n",
    "LEARNING_RATE = 0.5\n",
    "\n",
    "# x and y coordinates to plot \n",
    "x_coordinates = np.linspace(0, TESTS, num=TESTS)\n",
    "loss_y_coordinates = np.zeros(TESTS)\n",
    "accuracy_y_coordinates = np.zeros(TESTS)\n",
    "\n",
    "def plot(x, y, limits, title, x_label_name, y_label_name):\n",
    "    plt.close(\"all\")\n",
    "    figure = plt.figure()\n",
    "    figure.clf()\n",
    "    \n",
    "    plt.plot(x, y)\n",
    "    \n",
    "    #plt.axis(limits)\n",
    "    plt.ylabel(y_label_name)\n",
    "    plt.xlabel(x_label_name)\n",
    "\n",
    "    figure.suptitle(title, fontsize=20)\n",
    "    plt.legend(loc='upper right')\n",
    "    \n",
    "    plt.show()\n",
    "    return\n",
    "\n",
    "def scatter(x, y, limits, title, x_label_name, y_label_name):\n",
    "    plt.close(\"all\")\n",
    "    figure = plt.figure()\n",
    "    figure.clf()\n",
    "    \n",
    "    plt.scatter(x, y)\n",
    "    \n",
    "    #plt.axis(limits)\n",
    "    plt.ylabel(y_label_name)\n",
    "    plt.xlabel(x_label_name)\n",
    "\n",
    "    figure.suptitle(title, fontsize=20)\n",
    "    plt.legend(loc='upper right')\n",
    "    \n",
    "    plt.show()\n",
    "    return\n",
    "\n",
    "def plot_cross_entropy():\n",
    "    limits = [0,TESTS,0,5]\n",
    "    plot(x_coordinates, loss_y_coordinates, limits, \"Validation Set Cross Entropy\", \"Validation Images\", \"Entropy\")  \n",
    "    return\n",
    "\n",
    "def plot_accuracy():\n",
    "    limits = [0,TESTS,0,1]\n",
    "    scatter(x_coordinates, accuracy_y_coordinates, limits, \"Validation Set Accuracy\", \"Validation Images\", \"Accuracy\")\n",
    "    return"
   ]
  },
  {
   "cell_type": "code",
   "execution_count": 4,
   "metadata": {
    "collapsed": false
   },
   "outputs": [
    {
     "name": "stdout",
     "output_type": "stream",
     "text": [
      "Converted 8 variables to const ops.\n",
      "29 ops in the final graph.\n"
     ]
    }
   ],
   "source": [
    "def weight_variable(shape,name):\n",
    "    gaussian_matrix = tf.truncated_normal(shape, stddev=0.1)\n",
    "    weight_matrix = tf.Variable(gaussian_matrix, name=name)\n",
    "    return weight_matrix\n",
    "\n",
    "def bias_variable(shape,name):\n",
    "    gaussian_vector = tf.truncated_normal(shape, stddev=0.1)\n",
    "    bias_vector = tf.Variable(gaussian_vector, name=name)\n",
    "    return bias_vector\n",
    "\n",
    "\n",
    "FEATURES = 784\n",
    "HIDDEN_NODES = 20\n",
    "CLASSES = 10\n",
    "\n",
    "with tf.Graph().as_default():\n",
    "\n",
    "    with tf.name_scope(\"input_layer\"):\n",
    "        features_matrix = tf.placeholder(tf.float32, [None, FEATURES], name=\"features_matrix\")\n",
    "        targets_matrix = tf.placeholder(tf.float32, [None, CLASSES], name=\"targets_matrix\")\n",
    "\n",
    "    with tf.name_scope(\"hidden_layer1\"):\n",
    "        # hidden inputs\n",
    "        weight_matrix_h1 = weight_variable([FEATURES, HIDDEN_NODES], name=\"weight_matrix_h1\")\n",
    "        bias_vector_h1 = bias_variable([HIDDEN_NODES], name=\"bias_vector_h1\")\n",
    "\n",
    "        # linear operation\n",
    "        hidden_matrix_linear_h1 = tf.matmul(features_matrix, weight_matrix_h1, name = \"input_node\") + bias_vector_h1\n",
    "\n",
    "        # nonlinear operations\n",
    "        hidden_matrix_nonlinear_h1 = tf.nn.relu(hidden_matrix_linear_h1, name=\"hidden_matrix_nonlinear_h1\")\n",
    "\n",
    "\n",
    "    with tf.name_scope(\"hidden_layer2\"):\n",
    "        # hidden inputs\n",
    "        weight_matrix_h2 = weight_variable([HIDDEN_NODES, HIDDEN_NODES], name=\"weight_matrix_h2\")\n",
    "        bias_vector_h2 = bias_variable([HIDDEN_NODES], name=\"bias_vector_h2\")\n",
    "\n",
    "        # linear operation\n",
    "        hidden_matrix_linear_h2 = tf.matmul(hidden_matrix_nonlinear_h1, weight_matrix_h2, name=\"hidden_matrix_linear_h2\") + bias_vector_h2\n",
    "\n",
    "        # nonlinear operations\n",
    "        hidden_matrix_nonlinear_h2 = tf.nn.relu(hidden_matrix_linear_h2, name=\"hidden_matrix_nonlinear_h2\")\n",
    "\n",
    "\n",
    "    with tf.name_scope(\"hidden_layer3\"):\n",
    "        # hidden inputs\n",
    "        weight_matrix_h3 = weight_variable([HIDDEN_NODES, HIDDEN_NODES], name=\"weight_matrix_h3\")\n",
    "        bias_vector_h3 = bias_variable([HIDDEN_NODES], name=\"bias_vector_h3\")\n",
    "\n",
    "        # linear operation\n",
    "        hidden_matrix_linear_h3 = tf.matmul(hidden_matrix_nonlinear_h2, weight_matrix_h3, name=\"hidden_matrix_linear_h3\") + bias_vector_h3\n",
    "\n",
    "        # nonlinear operations\n",
    "        hidden_matrix_nonlinear_h3 = tf.nn.relu(hidden_matrix_linear_h3, name=\"hidden_matrix_nonlinear_h3\")\n",
    "\n",
    "\n",
    "    with tf.name_scope(\"output_layer\"):\n",
    "        # hidden inputs\n",
    "        weight_matrix_out = weight_variable([HIDDEN_NODES, CLASSES], name=\"weight_matrix_out\")\n",
    "        bias_vector_out = bias_variable([CLASSES], name=\"bias_vector_out\")\n",
    "\n",
    "        # linear operation\n",
    "        output_matrix = tf.matmul(hidden_matrix_nonlinear_h3, weight_matrix_out, name=\"output_matrix\") + bias_vector_out\n",
    "\n",
    "        # making output matrix a matrix of probabilities\n",
    "        probabilities_matrix = tf.nn.softmax(output_matrix, name = \"output_node\")\n",
    "\n",
    "    with tf.name_scope(\"loss\"):\n",
    "        loss_function = tf.reduce_mean(-tf.reduce_sum(targets_matrix * tf.log(probabilities_matrix), reduction_indices=[1]), name=\"loss_function\")\n",
    "        train_step = tf.train.GradientDescentOptimizer(LEARNING_RATE).minimize(loss_function)\n",
    "        \n",
    "    with tf.name_scope(\"loss\"):\n",
    "        predictions_vector = tf.equal(tf.argmax(targets_matrix,1), tf.argmax(probabilities_matrix,1), name=\"predictions_vector\")\n",
    "        accuracy = tf.reduce_mean(tf.cast(predictions_vector, tf.float32), name=\"accuracy_function\")\n",
    "        \n",
    "        \n",
    "    sess = tf.Session() \n",
    "    init = tf.initialize_all_variables()\n",
    "    sess.run(init)\n",
    "    \n",
    "    EPOCHS = 1000\n",
    "\n",
    "    for epoch in range(EPOCHS):\n",
    "        features_matrix_train, targets_matrix_train = mnist.train.next_batch(100)\n",
    "        sess.run(train_step, feed_dict={features_matrix: features_matrix_train, targets_matrix: targets_matrix_train})\n",
    "\n",
    "        features_matrix_test, targets_matrix_test = mnist.test.images, mnist.test.labels\n",
    "        loss_scalar = sess.run(loss_function, feed_dict={features_matrix: features_matrix_test, targets_matrix: targets_matrix_test})\n",
    "        accuracy_scalar = sess.run(accuracy, feed_dict={features_matrix: features_matrix_test, targets_matrix: targets_matrix_test})\n",
    "\n",
    "        #loss_y_coordinates[epoch] = loss_scalar\n",
    "        #accuracy_y_coordinates[epoch] = accuracy_scalar\n",
    "        \n",
    "    path = \"./VanillaNet_TrainedModel/\"\n",
    "    checkpoint_prefix = path + \"saved_checkpoint\"\n",
    "    checkpoint_state_name = \"checkpoint_state\"\n",
    "    graph_filename = \"input_graph.pb\"\n",
    "    trained_graph_filename = \"trained_graph.pb\"\n",
    "\n",
    "\n",
    "    saver = tf.train.Saver()\n",
    "    saver.save(sess, checkpoint_prefix)\n",
    "    tf.train.write_graph(sess.graph.as_graph_def(), path, graph_filename)\n",
    "\n",
    "# We save out the graph to disk, and then call the const conversion\n",
    "# routine.\n",
    "input_graph_path = path + graph_filename\n",
    "input_saver_def_path = \"\"\n",
    "input_binary = False\n",
    "input_checkpoint_path = checkpoint_prefix \n",
    "output_node_names = \"output_layer/output_node\"\n",
    "restore_op_name = \"save/restore_all\"\n",
    "filename_tensor_name = \"save/Const:0\"\n",
    "output_graph_path = path + trained_graph_filename\n",
    "clear_devices = False\n",
    "\n",
    "freeze_graph(input_graph_path, \n",
    "             input_saver_def_path,\n",
    "             input_binary, \n",
    "             input_checkpoint_path,\n",
    "             output_node_names, \n",
    "             restore_op_name,\n",
    "             filename_tensor_name, \n",
    "             output_graph_path,\n",
    "             clear_devices,\n",
    "             None)"
   ]
  },
  {
   "cell_type": "code",
   "execution_count": 5,
   "metadata": {
    "collapsed": false
   },
   "outputs": [],
   "source": [
    "# Now we make sure the variable is now a constant, and that the graph still\n",
    "# produces the expected result.\n",
    "output_graph_path = \"./VanillaNet_TrainedModel/trained_graph.pb\"\n",
    "\n",
    "with tf.Graph().as_default() as this_graph:\n",
    "    output_graph_def = tf.GraphDef()\n",
    "    with open(output_graph_path, \"rb\") as f:\n",
    "        output_graph_def.ParseFromString(f.read())\n",
    "        _ = tf.import_graph_def(output_graph_def, name=\"\")\n",
    "\n",
    "    with tf.Session() as sess:\n",
    "       \n",
    "        for test in range(TESTS):\n",
    "            features = mnist.validation.images[test].reshape((1,784))\n",
    "            target = mnist.validation.labels[test].reshape((1,10))\n",
    "\n",
    "            predictions_vector = sess.graph.get_tensor_by_name(\"output_layer/output_node:0\")\n",
    "            prediction = sess.run(predictions_vector, feed_dict={\"input_layer/features_matrix:0\": features})\n",
    "            accuracy = np.argmax(target) == np.argmax(prediction)\n",
    "            accuracy_y_coordinates[test] = accuracy  \n",
    "            \n",
    "        tf.merge_all_summaries()\n",
    "        tf.train.SummaryWriter('./VanillaNet_TensorBoard/After_Serializing_Model',graph=this_graph)\n",
    "            \n",
    "            \n",
    "#graph_path = \"./VanillaNet_TrainedModel/trained_graph.pb\"\n",
    "#with tf.Graph().as_default():\n",
    "#    graph_def = tf.GraphDef()\n",
    "#    with open(graph_path, \"rb\") as graph_file:\n",
    "#        graph_def.ParseFromString(graph_file.read())\n",
    "#        tf.import_graph_def(graph_def, name=\"uploaded_graph\")"
   ]
  },
  {
   "cell_type": "code",
   "execution_count": 6,
   "metadata": {
    "collapsed": false
   },
   "outputs": [
    {
     "name": "stderr",
     "output_type": "stream",
     "text": [
      "/home/isai/anaconda2/lib/python2.7/site-packages/matplotlib/axes/_axes.py:519: UserWarning: No labelled objects found. Use label='...' kwarg on individual plots.\n",
      "  warnings.warn(\"No labelled objects found. \"\n"
     ]
    },
    {
     "data": {
      "image/png": "[encoded data removed]",
      "text/plain": [
       "<matplotlib.figure.Figure at 0x7f31cad61f90>"
      ]
     },
     "metadata": {},
     "output_type": "display_data"
    }
   ],
   "source": [
    "plot_accuracy()"
   ]
  },
  {
   "cell_type": "code",
   "execution_count": null,
   "metadata": {
    "collapsed": false
   },
   "outputs": [],
   "source": [
    "\n"
   ]
  },
  {
   "cell_type": "code",
   "execution_count": null,
   "metadata": {
    "collapsed": false
   },
   "outputs": [],
   "source": []
  },
  {
   "cell_type": "code",
   "execution_count": null,
   "metadata": {
    "collapsed": false
   },
   "outputs": [],
   "source": []
  },
  {
   "cell_type": "code",
   "execution_count": null,
   "metadata": {
    "collapsed": false
   },
   "outputs": [],
   "source": []
  }
 ],
 "metadata": {
  "kernelspec": {
   "display_name": "Python 2",
   "language": "python",
   "name": "python2"
  },
  "language_info": {
   "codemirror_mode": {
    "name": "ipython",
    "version": 2
   },
   "file_extension": ".py",
   "mimetype": "text/x-python",
   "name": "python",
   "nbconvert_exporter": "python",
   "pygments_lexer": "ipython2",
   "version": "2.7.12"
  }
 },
 "nbformat": 4,
 "nbformat_minor": 0
}
